{
 "cells": [
  {
   "cell_type": "code",
   "execution_count": 15,
   "id": "d9aa00a5-c67c-4095-b446-57b3cd079056",
   "metadata": {},
   "outputs": [],
   "source": [
    "import json\n",
    "import pandas as pd"
   ]
  },
  {
   "cell_type": "code",
   "execution_count": 16,
   "id": "c8f143be-527c-4e58-9bb9-c669f0303a3c",
   "metadata": {},
   "outputs": [],
   "source": [
    "df = pd.read_csv(\"Veranstaltungsliste.csv\", encoding = 'utf8')"
   ]
  },
  {
   "cell_type": "code",
   "execution_count": 17,
   "id": "f1c25f9c-d0fa-44c3-87e5-a8d2f297c67c",
   "metadata": {},
   "outputs": [],
   "source": [
    "col_names = list(df.columns)"
   ]
  },
  {
   "cell_type": "code",
   "execution_count": null,
   "id": "c32ce57c-ef08-4fd5-b52f-bb884a9b24cf",
   "metadata": {},
   "outputs": [],
   "source": [
    "col_names = [item.replace(\".\", \"\") for item in col_names]"
   ]
  },
  {
   "cell_type": "code",
   "execution_count": null,
   "id": "f1c28dc6-5150-4fee-a83e-81e5ec1f0490",
   "metadata": {},
   "outputs": [],
   "source": []
  },
  {
   "cell_type": "code",
   "execution_count": 19,
   "id": "8d90be38-c26f-47ec-82ed-587d0bda7f6f",
   "metadata": {},
   "outputs": [],
   "source": [
    "json_list = []\n",
    "for i in range(0, 315):\n",
    "    cur_dict = {str(col_names[j]):str(df.iloc[i,j]) for j in range(0, 20)}\n",
    "    json_list.append(cur_dict)"
   ]
  },
  {
   "cell_type": "code",
   "execution_count": 20,
   "id": "a84591c9-1078-490a-a6bc-218547e561af",
   "metadata": {},
   "outputs": [],
   "source": [
    "with open('Veranstaltungen_winter.json', 'w') as f:\n",
    "    json.dump({'veranstaltungen': json_list},  f,indent=2)"
   ]
  },
  {
   "cell_type": "code",
   "execution_count": null,
   "id": "2d663be4-7e22-439d-82e7-ebd00d22f15a",
   "metadata": {},
   "outputs": [],
   "source": []
  },
  {
   "cell_type": "code",
   "execution_count": null,
   "id": "cb236225-6659-47c9-94ae-182273628311",
   "metadata": {},
   "outputs": [],
   "source": []
  },
  {
   "cell_type": "code",
   "execution_count": null,
   "id": "742ac535-63f0-4d7a-99f0-8044bd11edc9",
   "metadata": {},
   "outputs": [],
   "source": []
  },
  {
   "cell_type": "code",
   "execution_count": null,
   "id": "3f0ea363-cb00-4d60-8fa5-38f3d6c39e74",
   "metadata": {},
   "outputs": [],
   "source": []
  },
  {
   "cell_type": "code",
   "execution_count": null,
   "id": "a3d3427c-56f1-4d05-88ba-f5062dfa89e1",
   "metadata": {},
   "outputs": [],
   "source": []
  },
  {
   "cell_type": "code",
   "execution_count": null,
   "id": "9c6c6e24-8dae-48e8-80f5-50dd7674ed94",
   "metadata": {},
   "outputs": [],
   "source": []
  }
 ],
 "metadata": {
  "kernelspec": {
   "display_name": "Python 3 (ipykernel)",
   "language": "python",
   "name": "python3"
  },
  "language_info": {
   "codemirror_mode": {
    "name": "ipython",
    "version": 3
   },
   "file_extension": ".py",
   "mimetype": "text/x-python",
   "name": "python",
   "nbconvert_exporter": "python",
   "pygments_lexer": "ipython3",
   "version": "3.7.10"
  }
 },
 "nbformat": 4,
 "nbformat_minor": 5
}
